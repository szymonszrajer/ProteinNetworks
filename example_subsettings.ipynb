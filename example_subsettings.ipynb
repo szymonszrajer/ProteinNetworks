{
  "nbformat": 4,
  "nbformat_minor": 0,
  "metadata": {
    "colab": {
      "provenance": []
    },
    "kernelspec": {
      "name": "python3",
      "display_name": "Python 3"
    },
    "language_info": {
      "name": "python"
    }
  },
  "cells": [
    {
      "cell_type": "code",
      "execution_count": null,
      "metadata": {
        "id": "Y7eX3XLHP5Iu"
      },
      "outputs": [],
      "source": [
        "%pip install Bio\n",
        "import random\n",
        "from Bio import SeqIO"
      ]
    },
    {
      "cell_type": "markdown",
      "source": [
        "Subset fasta records for dataset 1 and 2"
      ],
      "metadata": {
        "id": "lIPySs9pQHaM"
      }
    },
    {
      "cell_type": "code",
      "source": [
        "with open('/content/non-enzyme_noDup.fa', 'r') as infile, open('/content/non-enzyme_14000.fa', 'w') as outfile:\n",
        "  fasta_sequences = []\n",
        "\n",
        "  for record in SeqIO.parse(infile, 'fasta'):\n",
        "    fasta_sequences.append((record.id, record.description, str(record.seq)))\n",
        "\n",
        "  selected_sequences = random.sample(fasta_sequences, 14000)\n",
        "\n",
        "  for sequence in selected_sequences:\n",
        "    id, description, seq = sequence\n",
        "    outfile.write('>' + id + ' ' + description + '\\n' + seq + '\\n')"
      ],
      "metadata": {
        "id": "2nHqkOuCIcF_"
      },
      "execution_count": null,
      "outputs": []
    },
    {
      "cell_type": "markdown",
      "source": [
        "Subset 4802 Wei et.al dataset"
      ],
      "metadata": {
        "id": "X0rCPscYQNAf"
      }
    },
    {
      "cell_type": "code",
      "source": [
        "with open('4802.fa', 'r') as f:\n",
        "    records = SeqIO.parse(f, 'fasta')\n",
        "    filtered_records = filter(lambda r: 'Cytoplasm' in r.description and 'Nucleus' not in r.description and 'Plasma Membrane' not in r.description and 'Extracellular' not in r.description and 'Mitochondria' not in r.description  and 'Cytoplasmic' not in r.description, records)\n",
        "    first_400_records = list(filtered_records)[:400]\n",
        "    \n",
        "with open('Cytoplasm.fasta', 'w') as f:\n",
        "    SeqIO.write(first_400_records, f, 'fasta')"
      ],
      "metadata": {
        "id": "D0RIHgubJd_W"
      },
      "execution_count": null,
      "outputs": []
    },
    {
      "cell_type": "code",
      "source": [
        "with open('4802.fa', 'r') as f:\n",
        "    records = SeqIO.parse(f, 'fasta')\n",
        "    filtered_records = filter(lambda r: 'Nucleus' in r.description and 'Cytoplasm' not in r.description and 'Plasma Membrane' not in r.description and 'Extracellular' not in r.description and 'Mitochondria' not in r.description  and 'Cytoplasmic' not in r.description, records)\n",
        "    first_400_records = list(filtered_records)[:1200]\n",
        "    \n",
        "with open('Nucleus1200.fasta', 'w') as f:\n",
        "    SeqIO.write(first_400_records, f, 'fasta')"
      ],
      "metadata": {
        "id": "tFbN1ko8Kskl"
      },
      "execution_count": null,
      "outputs": []
    }
  ]
}